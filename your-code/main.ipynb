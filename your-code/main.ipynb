{
  "nbformat": 4,
  "nbformat_minor": 0,
  "metadata": {
    "kernelspec": {
      "display_name": "Python 3",
      "language": "python",
      "name": "python3"
    },
    "language_info": {
      "codemirror_mode": {
        "name": "ipython",
        "version": 3
      },
      "file_extension": ".py",
      "mimetype": "text/x-python",
      "name": "python",
      "nbconvert_exporter": "python",
      "pygments_lexer": "ipython3",
      "version": "3.7.3"
    },
    "colab": {
      "name": "main.ipynb",
      "provenance": []
    }
  },
  "cells": [
    {
      "cell_type": "markdown",
      "metadata": {
        "id": "W3sjqhjgUJkI",
        "colab_type": "text"
      },
      "source": [
        "# Before your start:\n",
        "- Read the README.md file\n",
        "- Comment as much as you can and use the resources (README.md file)\n",
        "- Happy learning!"
      ]
    },
    {
      "cell_type": "code",
      "metadata": {
        "id": "l3ObyY02UJkJ",
        "colab_type": "code",
        "colab": {}
      },
      "source": [
        "import numpy as np\n",
        "import pandas as pd\n",
        "import scipy.stats as stats"
      ],
      "execution_count": 34,
      "outputs": []
    },
    {
      "cell_type": "markdown",
      "metadata": {
        "id": "BIc5STliUJkQ",
        "colab_type": "text"
      },
      "source": [
        "# Challenge 1 - Independent Sample T-tests\n",
        "\n",
        "In this challenge, we will be using the Pokemon dataset. Before applying statistical methods to this data, let's first examine the data.\n",
        "\n",
        "To load the data, run the code below."
      ]
    },
    {
      "cell_type": "code",
      "metadata": {
        "id": "iV5lwaYxUJkR",
        "colab_type": "code",
        "colab": {}
      },
      "source": [
        "# Run this code:\n",
        "\n",
        "pokemon = pd.read_csv(\"https://raw.githubusercontent.com/eduardoheros/lab-two-sample-hypothesis-tests/master/pokemon.csv\")"
      ],
      "execution_count": 35,
      "outputs": []
    },
    {
      "cell_type": "markdown",
      "metadata": {
        "id": "PCs96uoPUJkU",
        "colab_type": "text"
      },
      "source": [
        "Let's start off by looking at the `head` function in the cell below."
      ]
    },
    {
      "cell_type": "code",
      "metadata": {
        "id": "cJasg1q0UJkV",
        "colab_type": "code",
        "colab": {
          "base_uri": "https://localhost:8080/",
          "height": 204
        },
        "outputId": "8894dd39-99ba-4612-b32b-d2f631ed50a5"
      },
      "source": [
        "pokemon.head()\n",
        "\n"
      ],
      "execution_count": 36,
      "outputs": [
        {
          "output_type": "execute_result",
          "data": {
            "text/html": [
              "<div>\n",
              "<style scoped>\n",
              "    .dataframe tbody tr th:only-of-type {\n",
              "        vertical-align: middle;\n",
              "    }\n",
              "\n",
              "    .dataframe tbody tr th {\n",
              "        vertical-align: top;\n",
              "    }\n",
              "\n",
              "    .dataframe thead th {\n",
              "        text-align: right;\n",
              "    }\n",
              "</style>\n",
              "<table border=\"1\" class=\"dataframe\">\n",
              "  <thead>\n",
              "    <tr style=\"text-align: right;\">\n",
              "      <th></th>\n",
              "      <th>#</th>\n",
              "      <th>Name</th>\n",
              "      <th>Type 1</th>\n",
              "      <th>Type 2</th>\n",
              "      <th>Total</th>\n",
              "      <th>HP</th>\n",
              "      <th>Attack</th>\n",
              "      <th>Defense</th>\n",
              "      <th>Sp. Atk</th>\n",
              "      <th>Sp. Def</th>\n",
              "      <th>Speed</th>\n",
              "      <th>Generation</th>\n",
              "      <th>Legendary</th>\n",
              "    </tr>\n",
              "  </thead>\n",
              "  <tbody>\n",
              "    <tr>\n",
              "      <th>0</th>\n",
              "      <td>1</td>\n",
              "      <td>Bulbasaur</td>\n",
              "      <td>Grass</td>\n",
              "      <td>Poison</td>\n",
              "      <td>318</td>\n",
              "      <td>45</td>\n",
              "      <td>49</td>\n",
              "      <td>49</td>\n",
              "      <td>65</td>\n",
              "      <td>65</td>\n",
              "      <td>45</td>\n",
              "      <td>1</td>\n",
              "      <td>False</td>\n",
              "    </tr>\n",
              "    <tr>\n",
              "      <th>1</th>\n",
              "      <td>2</td>\n",
              "      <td>Ivysaur</td>\n",
              "      <td>Grass</td>\n",
              "      <td>Poison</td>\n",
              "      <td>405</td>\n",
              "      <td>60</td>\n",
              "      <td>62</td>\n",
              "      <td>63</td>\n",
              "      <td>80</td>\n",
              "      <td>80</td>\n",
              "      <td>60</td>\n",
              "      <td>1</td>\n",
              "      <td>False</td>\n",
              "    </tr>\n",
              "    <tr>\n",
              "      <th>2</th>\n",
              "      <td>3</td>\n",
              "      <td>Venusaur</td>\n",
              "      <td>Grass</td>\n",
              "      <td>Poison</td>\n",
              "      <td>525</td>\n",
              "      <td>80</td>\n",
              "      <td>82</td>\n",
              "      <td>83</td>\n",
              "      <td>100</td>\n",
              "      <td>100</td>\n",
              "      <td>80</td>\n",
              "      <td>1</td>\n",
              "      <td>False</td>\n",
              "    </tr>\n",
              "    <tr>\n",
              "      <th>3</th>\n",
              "      <td>3</td>\n",
              "      <td>VenusaurMega Venusaur</td>\n",
              "      <td>Grass</td>\n",
              "      <td>Poison</td>\n",
              "      <td>625</td>\n",
              "      <td>80</td>\n",
              "      <td>100</td>\n",
              "      <td>123</td>\n",
              "      <td>122</td>\n",
              "      <td>120</td>\n",
              "      <td>80</td>\n",
              "      <td>1</td>\n",
              "      <td>False</td>\n",
              "    </tr>\n",
              "    <tr>\n",
              "      <th>4</th>\n",
              "      <td>4</td>\n",
              "      <td>Charmander</td>\n",
              "      <td>Fire</td>\n",
              "      <td>NaN</td>\n",
              "      <td>309</td>\n",
              "      <td>39</td>\n",
              "      <td>52</td>\n",
              "      <td>43</td>\n",
              "      <td>60</td>\n",
              "      <td>50</td>\n",
              "      <td>65</td>\n",
              "      <td>1</td>\n",
              "      <td>False</td>\n",
              "    </tr>\n",
              "  </tbody>\n",
              "</table>\n",
              "</div>"
            ],
            "text/plain": [
              "   #                   Name Type 1  ... Speed  Generation  Legendary\n",
              "0  1              Bulbasaur  Grass  ...    45           1      False\n",
              "1  2                Ivysaur  Grass  ...    60           1      False\n",
              "2  3               Venusaur  Grass  ...    80           1      False\n",
              "3  3  VenusaurMega Venusaur  Grass  ...    80           1      False\n",
              "4  4             Charmander   Fire  ...    65           1      False\n",
              "\n",
              "[5 rows x 13 columns]"
            ]
          },
          "metadata": {
            "tags": []
          },
          "execution_count": 36
        }
      ]
    },
    {
      "cell_type": "markdown",
      "metadata": {
        "id": "aXRFvtx7UJkX",
        "colab_type": "text"
      },
      "source": [
        "The first thing we would like to do is compare the legendary Pokemon to the regular Pokemon. To do this, we should examine the data further. What is the count of legendary vs. non legendary Pokemons?"
      ]
    },
    {
      "cell_type": "code",
      "metadata": {
        "id": "Ng45tzeSUJkY",
        "colab_type": "code",
        "colab": {
          "base_uri": "https://localhost:8080/",
          "height": 68
        },
        "outputId": "5b99f9b3-4917-41f4-bfff-fce1e4debb7e"
      },
      "source": [
        "pokemon.Legendary.value_counts()\n"
      ],
      "execution_count": 37,
      "outputs": [
        {
          "output_type": "execute_result",
          "data": {
            "text/plain": [
              "False    735\n",
              "True      65\n",
              "Name: Legendary, dtype: int64"
            ]
          },
          "metadata": {
            "tags": []
          },
          "execution_count": 37
        }
      ]
    },
    {
      "cell_type": "code",
      "metadata": {
        "id": "Mz2ySxmlVGhC",
        "colab_type": "code",
        "colab": {}
      },
      "source": [
        "legendary=pokemon[pokemon.Legendary]"
      ],
      "execution_count": 38,
      "outputs": []
    },
    {
      "cell_type": "code",
      "metadata": {
        "id": "il8WnHlgVTb-",
        "colab_type": "code",
        "colab": {}
      },
      "source": [
        "no_legendary=pokemon[~pokemon.Legendary]"
      ],
      "execution_count": 39,
      "outputs": []
    },
    {
      "cell_type": "markdown",
      "metadata": {
        "id": "4yn9vYvxUJka",
        "colab_type": "text"
      },
      "source": [
        "Compute the mean and standard deviation of the total points for both legendary and non-legendary Pokemon."
      ]
    },
    {
      "cell_type": "code",
      "metadata": {
        "id": "Sgrjzj4KUJkc",
        "colab_type": "code",
        "colab": {}
      },
      "source": [
        "# Your code here:\n",
        "no_legendary_mean=no_legendary.Total.mean()\n",
        "no_legendary_std=no_legendary.Total.std()\n",
        "legendary_mean=legendary.Total.mean()\n",
        "legendary_mean=legendary.Total.std()"
      ],
      "execution_count": 40,
      "outputs": []
    },
    {
      "cell_type": "markdown",
      "metadata": {
        "id": "RTzUVrwmUJkf",
        "colab_type": "text"
      },
      "source": [
        "The computation of the mean might give us a clue regarding how the statistical test may turn out; However, it certainly does not prove whether there is a significant difference between the two groups.\n",
        "\n",
        "In the cell below, use the `ttest_ind` function in `scipy.stats` to compare the the total points for legendary and non-legendary Pokemon. Since we do not have any information about the population, assume the variances are not equal."
      ]
    },
    {
      "cell_type": "code",
      "metadata": {
        "id": "dlUbQnDpUJkg",
        "colab_type": "code",
        "colab": {
          "base_uri": "https://localhost:8080/",
          "height": 34
        },
        "outputId": "58113421-7187-4ac3-e824-320a8600f63e"
      },
      "source": [
        "stats.ttest_ind(legendary.Total,no_legendary.Total)"
      ],
      "execution_count": 41,
      "outputs": [
        {
          "output_type": "execute_result",
          "data": {
            "text/plain": [
              "Ttest_indResult(statistic=16.386116965872425, pvalue=3.0952457469652825e-52)"
            ]
          },
          "metadata": {
            "tags": []
          },
          "execution_count": 41
        }
      ]
    },
    {
      "cell_type": "markdown",
      "metadata": {
        "id": "zbzxtbB6UJkk",
        "colab_type": "text"
      },
      "source": [
        "What do you conclude from this test? Write your conclusions below."
      ]
    },
    {
      "cell_type": "code",
      "metadata": {
        "id": "8fQeIJWQUJkk",
        "colab_type": "code",
        "colab": {}
      },
      "source": [
        "##Las dos muestras son distintas, no corresponden a la misma población si defino mi significancia menor a 0.001"
      ],
      "execution_count": 42,
      "outputs": []
    },
    {
      "cell_type": "markdown",
      "metadata": {
        "id": "6T6dbhTYUJko",
        "colab_type": "text"
      },
      "source": [
        "How about we try to compare the different types of pokemon? In the cell below, list the types of Pokemon from column `Type 1` and the count of each type."
      ]
    },
    {
      "cell_type": "code",
      "metadata": {
        "id": "Q216-C0eUJko",
        "colab_type": "code",
        "colab": {
          "base_uri": "https://localhost:8080/",
          "height": 340
        },
        "outputId": "1ee8b8dc-8fd2-4506-c18a-545fd02d8ab9"
      },
      "source": [
        "# Your code here:\n",
        "pokemon[\"Type 1\"].value_counts()"
      ],
      "execution_count": 44,
      "outputs": [
        {
          "output_type": "execute_result",
          "data": {
            "text/plain": [
              "Water       112\n",
              "Normal       98\n",
              "Grass        70\n",
              "Bug          69\n",
              "Psychic      57\n",
              "Fire         52\n",
              "Electric     44\n",
              "Rock         44\n",
              "Ghost        32\n",
              "Dragon       32\n",
              "Ground       32\n",
              "Dark         31\n",
              "Poison       28\n",
              "Steel        27\n",
              "Fighting     27\n",
              "Ice          24\n",
              "Fairy        17\n",
              "Flying        4\n",
              "Name: Type 1, dtype: int64"
            ]
          },
          "metadata": {
            "tags": []
          },
          "execution_count": 44
        }
      ]
    },
    {
      "cell_type": "markdown",
      "metadata": {
        "id": "9t3DsGmyUJkr",
        "colab_type": "text"
      },
      "source": [
        "Since water is the largest group of Pokemon, compare the mean and standard deviation of water Pokemon to all other Pokemon."
      ]
    },
    {
      "cell_type": "code",
      "metadata": {
        "id": "nL6uSbbyUJkr",
        "colab_type": "code",
        "colab": {
          "base_uri": "https://localhost:8080/",
          "height": 34
        },
        "outputId": "f6bb2718-5081-41ea-e6e6-74d57ae1c103"
      },
      "source": [
        "pokemon[pokemon[\"Type 1\"]==\"Water\"].Total.mean()"
      ],
      "execution_count": 45,
      "outputs": [
        {
          "output_type": "execute_result",
          "data": {
            "text/plain": [
              "430.45535714285717"
            ]
          },
          "metadata": {
            "tags": []
          },
          "execution_count": 45
        }
      ]
    },
    {
      "cell_type": "code",
      "metadata": {
        "id": "a_9-a_GJeVEa",
        "colab_type": "code",
        "colab": {
          "base_uri": "https://localhost:8080/",
          "height": 34
        },
        "outputId": "3a5d3798-cce0-430d-e49e-e79264735296"
      },
      "source": [
        "pokemon[pokemon[\"Type 1\"]==\"Water\"].Total.std()"
      ],
      "execution_count": 46,
      "outputs": [
        {
          "output_type": "execute_result",
          "data": {
            "text/plain": [
              "113.18826606431458"
            ]
          },
          "metadata": {
            "tags": []
          },
          "execution_count": 46
        }
      ]
    },
    {
      "cell_type": "code",
      "metadata": {
        "id": "QQBvz-SDehHL",
        "colab_type": "code",
        "colab": {
          "base_uri": "https://localhost:8080/",
          "height": 34
        },
        "outputId": "99fc4f9c-b7d3-48f4-a53c-a7b75e7c06cd"
      },
      "source": [
        "pokemon[pokemon[\"Type 1\"]!=\"Water\"].Total.mean()"
      ],
      "execution_count": 47,
      "outputs": [
        {
          "output_type": "execute_result",
          "data": {
            "text/plain": [
              "435.85901162790697"
            ]
          },
          "metadata": {
            "tags": []
          },
          "execution_count": 47
        }
      ]
    },
    {
      "cell_type": "code",
      "metadata": {
        "id": "h-_EiqKsejaX",
        "colab_type": "code",
        "colab": {
          "base_uri": "https://localhost:8080/",
          "height": 34
        },
        "outputId": "0049732a-e49b-4aaa-ff41-f5b13b3d7f67"
      },
      "source": [
        "pokemon[pokemon[\"Type 1\"]!=\"Water\"].Total.std()"
      ],
      "execution_count": 48,
      "outputs": [
        {
          "output_type": "execute_result",
          "data": {
            "text/plain": [
              "121.09168230208066"
            ]
          },
          "metadata": {
            "tags": []
          },
          "execution_count": 48
        }
      ]
    },
    {
      "cell_type": "markdown",
      "metadata": {
        "id": "iPFWH8baUJku",
        "colab_type": "text"
      },
      "source": [
        "Perform a hypothesis test comparing the mean of total points for water Pokemon to all non-water Pokemon. Assume the variances are equal. "
      ]
    },
    {
      "cell_type": "code",
      "metadata": {
        "id": "_t_KdNugfd20",
        "colab_type": "code",
        "colab": {}
      },
      "source": [
        "water=pokemon[pokemon[\"Type 1\"]==\"Water\"].Total\n",
        "no_water=pokemon[pokemon[\"Type 1\"]!=\"Water\"].Total"
      ],
      "execution_count": 49,
      "outputs": []
    },
    {
      "cell_type": "code",
      "metadata": {
        "id": "yJjtANJOefdz",
        "colab_type": "code",
        "colab": {
          "base_uri": "https://localhost:8080/",
          "height": 34
        },
        "outputId": "f63864fc-33a2-4315-e7ab-40df2cd8eb9e"
      },
      "source": [
        "stats.ttest_ind(water,no_water)"
      ],
      "execution_count": 50,
      "outputs": [
        {
          "output_type": "execute_result",
          "data": {
            "text/plain": [
              "Ttest_indResult(statistic=-0.4418547448849676, pvalue=0.6587140317488793)"
            ]
          },
          "metadata": {
            "tags": []
          },
          "execution_count": 50
        }
      ]
    },
    {
      "cell_type": "markdown",
      "metadata": {
        "id": "lTSEdSUCUJk0",
        "colab_type": "text"
      },
      "source": [
        "Write your conclusion below."
      ]
    },
    {
      "cell_type": "code",
      "metadata": {
        "id": "i7NVmjcRUJk1",
        "colab_type": "code",
        "colab": {}
      },
      "source": [
        "# Your conclusions here:\n",
        "##Con un nivel de significancia de 0.05, no puedo rechazar la hipótesis nula, entonces consideramos que los pokemones de agua tienen misma media que los de otro tipo\n"
      ],
      "execution_count": 51,
      "outputs": []
    },
    {
      "cell_type": "markdown",
      "metadata": {
        "id": "5maJCDleUJk3",
        "colab_type": "text"
      },
      "source": [
        "# Challenge 2 - Matched Pairs Test\n",
        "\n",
        "In this challenge we will compare dependent samples of data describing our Pokemon. Our goal is to see whether there is a significant difference between each Pokemon's defense and attack scores. Our hypothesis is that the defense and attack scores are equal. In the cell below, import the `ttest_rel` function from `scipy.stats` and compare the two columns to see if there is a statistically significant difference between them."
      ]
    },
    {
      "cell_type": "code",
      "metadata": {
        "id": "skId1ZX9UJk4",
        "colab_type": "code",
        "colab": {
          "base_uri": "https://localhost:8080/",
          "height": 34
        },
        "outputId": "f93e81fb-63f9-4a8b-8711-b1b01abf62ba"
      },
      "source": [
        "stats.ttest_rel(pokemon.Defense,pokemon.Attack)"
      ],
      "execution_count": 52,
      "outputs": [
        {
          "output_type": "execute_result",
          "data": {
            "text/plain": [
              "Ttest_relResult(statistic=-4.325566393330478, pvalue=1.7140303479358558e-05)"
            ]
          },
          "metadata": {
            "tags": []
          },
          "execution_count": 52
        }
      ]
    },
    {
      "cell_type": "markdown",
      "metadata": {
        "id": "Yilpn-bgUJk6",
        "colab_type": "text"
      },
      "source": [
        "Describe the results of the test in the cell below."
      ]
    },
    {
      "cell_type": "code",
      "metadata": {
        "id": "1sKlxDeMUJk7",
        "colab_type": "code",
        "colab": {}
      },
      "source": [
        "##Definida una significancia de 0.01, rechazamos hipótesis nula, encontramos que la media de \"Ataque\" es diferente de la media de \"Defensa\""
      ],
      "execution_count": 53,
      "outputs": []
    },
    {
      "cell_type": "markdown",
      "metadata": {
        "id": "YT0cLzYNUJk-",
        "colab_type": "text"
      },
      "source": [
        "We are also curious about whether therer is a significant difference between the mean of special defense and the mean of special attack. Perform the hypothesis test in the cell below. "
      ]
    },
    {
      "cell_type": "code",
      "metadata": {
        "id": "jsQK0klCUJk-",
        "colab_type": "code",
        "colab": {
          "base_uri": "https://localhost:8080/",
          "height": 34
        },
        "outputId": "0a043227-1931-4e5b-d811-7ec25fdb679c"
      },
      "source": [
        "stats.ttest_rel(pokemon[\"Sp. Atk\"],pokemon[\"Sp. Def\"])"
      ],
      "execution_count": 54,
      "outputs": [
        {
          "output_type": "execute_result",
          "data": {
            "text/plain": [
              "Ttest_relResult(statistic=0.853986188453353, pvalue=0.3933685997548122)"
            ]
          },
          "metadata": {
            "tags": []
          },
          "execution_count": 54
        }
      ]
    },
    {
      "cell_type": "markdown",
      "metadata": {
        "id": "_S20q2RPUJlA",
        "colab_type": "text"
      },
      "source": [
        "Describe the results of the test in the cell below."
      ]
    },
    {
      "cell_type": "code",
      "metadata": {
        "id": "9wzrhz6gUJlB",
        "colab_type": "code",
        "colab": {}
      },
      "source": [
        "##Definida una significancia de 0.01, no rechazamos hipótesis nula, encontramos que la media de \"Ataque\" es igual de la media de \"Defensa\""
      ],
      "execution_count": 55,
      "outputs": []
    },
    {
      "cell_type": "markdown",
      "metadata": {
        "id": "WjFjmphfUJlE",
        "colab_type": "text"
      },
      "source": [
        "As you may recall, a two sample matched pairs test can also be expressed as a one sample test of the difference between the two dependent columns.\n",
        "\n",
        "Import the `ttest_1samp` function and perform a one sample t-test of the difference between defense and attack. Test the hypothesis that the difference between the means is zero. Confirm that the results of the test are the same."
      ]
    },
    {
      "cell_type": "code",
      "metadata": {
        "id": "oWvFv4CzUJlF",
        "colab_type": "code",
        "colab": {
          "base_uri": "https://localhost:8080/",
          "height": 34
        },
        "outputId": "0f3a010b-8c8e-4c2f-f958-40e929ab57ca"
      },
      "source": [
        "stats.ttest_1samp(pokemon[\"Sp. Atk\"]-pokemon[\"Sp. Def\"],popmean=0)"
      ],
      "execution_count": 56,
      "outputs": [
        {
          "output_type": "execute_result",
          "data": {
            "text/plain": [
              "Ttest_1sampResult(statistic=0.853986188453353, pvalue=0.3933685997548122)"
            ]
          },
          "metadata": {
            "tags": []
          },
          "execution_count": 56
        }
      ]
    },
    {
      "cell_type": "markdown",
      "metadata": {
        "id": "uf1TJvdIUJlH",
        "colab_type": "text"
      },
      "source": [
        "# Bonus Challenge - The Chi-Square Test\n",
        "\n",
        "The Chi-Square test is used to determine whether there is a statistically significant difference in frequencies. In other words, we are testing whether there is a relationship between categorical variables or rather when the variables are independent. This test is an alternative to Fisher's exact test and is used in scenarios where sample sizes are larger. However, with a large enough sample size, both tests produce similar results. Read more about the Chi Squared test [here](https://en.wikipedia.org/wiki/Chi-squared_test).\n",
        "\n",
        "In the cell below, create a contingency table using `pd.crosstab` comparing whether a Pokemon is legenadary or not and whether the Type 1 of a Pokemon is water or not."
      ]
    },
    {
      "cell_type": "code",
      "metadata": {
        "id": "k-rf8T-OUJlH",
        "colab_type": "code",
        "colab": {}
      },
      "source": [
        "# Your code here:\n",
        "pokemon_cross=pd.crosstab(pokemon[\"Type 1\"],pokemon.Legendary,values=pokemon.Total,aggfunc=\"sum\").fillna(0)"
      ],
      "execution_count": 62,
      "outputs": []
    },
    {
      "cell_type": "markdown",
      "metadata": {
        "id": "qdYi5dwVUJlK",
        "colab_type": "text"
      },
      "source": [
        "Perform a chi-squared test using the `chi2_contingency` function in `scipy.stats`. You can read the documentation of the function [here](https://docs.scipy.org/doc/scipy-0.15.1/reference/generated/scipy.stats.chi2_contingency.html)."
      ]
    },
    {
      "cell_type": "code",
      "metadata": {
        "id": "XkQAKgEMUJlK",
        "colab_type": "code",
        "colab": {
          "base_uri": "https://localhost:8080/",
          "height": 323
        },
        "outputId": "99318050-2892-42ac-db86-3d76030502f3"
      },
      "source": [
        "stats.chi2_contingency(pokemon_cross)"
      ],
      "execution_count": 63,
      "outputs": [
        {
          "output_type": "execute_result",
          "data": {
            "text/plain": [
              "(48488.13313877232, 0.0, 17, array([[23034.00690642,  3111.99309358],\n",
              "        [12173.33081285,  1644.66918715],\n",
              "        [15520.15985888,  2096.84014112],\n",
              "        [17187.84803581,  2322.15196419],\n",
              "        [ 6187.97768342,   836.02231658],\n",
              "        [ 9905.69776087,  1338.30223913],\n",
              "        [20984.85598221,  2835.14401779],\n",
              "        [ 1709.09406404,   230.90593596],\n",
              "        [12391.81294063,  1674.18705937],\n",
              "        [25971.18196287,  3508.81803713],\n",
              "        [12333.6685034 ,  1666.3314966 ],\n",
              "        [ 9164.79667435,  1238.20332565],\n",
              "        [34679.63290259,  4685.36709741],\n",
              "        [ 9845.791371  ,  1330.208629  ],\n",
              "        [23900.00663062,  3228.99336938],\n",
              "        [17588.69226217,  2376.30773783],\n",
              "        [11600.69620377,  1567.30379623],\n",
              "        [42472.7494441 ,  5738.2505559 ]]))"
            ]
          },
          "metadata": {
            "tags": []
          },
          "execution_count": 63
        }
      ]
    },
    {
      "cell_type": "markdown",
      "metadata": {
        "id": "_dUs6fEVUJlM",
        "colab_type": "text"
      },
      "source": [
        "Based on a 95% confidence, should we reject the null hypothesis?"
      ]
    },
    {
      "cell_type": "code",
      "metadata": {
        "id": "GmaficFOUJlN",
        "colab_type": "code",
        "colab": {}
      },
      "source": [
        "##Valor p=0, se puede rechazar hipótesis nula"
      ],
      "execution_count": 64,
      "outputs": []
    },
    {
      "cell_type": "code",
      "metadata": {
        "id": "9ox8oXKUUJlP",
        "colab_type": "code",
        "colab": {}
      },
      "source": [
        ""
      ],
      "execution_count": null,
      "outputs": []
    }
  ]
}